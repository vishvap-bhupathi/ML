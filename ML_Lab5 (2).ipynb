{
 "cells": [
  {
   "cell_type": "code",
   "execution_count": 33,
   "id": "7c39b4b1",
   "metadata": {},
   "outputs": [
    {
     "name": "stdout",
     "output_type": "stream",
     "text": [
      "The AND Result for 0 and 0 is 0\n",
      "The AND Result for 0 and 1 is 0\n",
      "The AND Result for 1 and 0 is 0\n",
      "The AND Result for 1 and 1 is 1\n"
     ]
    }
   ],
   "source": [
    "import numpy as np\n",
    "\n",
    "#step activation function for the perceptron\n",
    "def step_activation_function(x):\n",
    "    if x>=0:\n",
    "        return 1\n",
    "    else:\n",
    "        return 0\n",
    "#perceptron function for model training \n",
    "def perceptron_step(a,b,w0,w1,w2,z,alpha):\n",
    "    net_weight=a*w1+b*w2+w0\n",
    "    prediction=step_activation_function(net_weight)\n",
    "    \n",
    "    error=z-prediction\n",
    "    w1=w1+(alpha*error*a)\n",
    "    w2=w2+(alpha*error*b)\n",
    "    w0=w0+(alpha*error)\n",
    "    \n",
    "    return w1,w2,w0\n",
    "\n",
    "train_data=[(0,0,0),(0,1,0),(1,0,0),(1,1,1)]\n",
    "w0=10\n",
    "w1=0.2\n",
    "w2=-0.75\n",
    "alpha=0.05\n",
    "\n",
    "epochs=1000\n",
    "for i in range(epochs):\n",
    "    for a,b,z in train_data:\n",
    "        w1,w2,w0=perceptron_step(a,b,w0,w1,w2,z,alpha)\n",
    "\n",
    "test_data=[(0,0),(0,1),(1,0),(1,1)]\n",
    "\n",
    "\n",
    "net_weight=0*w1+0*w2+w0\n",
    "prediction=step_activation_function(net_weight)\n",
    "print(\"The AND Result for 0 and 0 is\",prediction)\n",
    "\n",
    "net_weight=0*w1+1*w2+w0\n",
    "prediction=step_activation_function(net_weight)\n",
    "print(\"The AND Result for 0 and 1 is\",prediction)\n",
    "\n",
    "net_weight=1*w1+0*w2+w0\n",
    "prediction=step_activation_function(net_weight)\n",
    "print(\"The AND Result for 1 and 0 is\",prediction)\n",
    "\n",
    "net_weight=1*w1+1*w2+w0\n",
    "prediction=step_activation_function(net_weight)\n",
    "print(\"The AND Result for 1 and 1 is\",prediction)"
   ]
  },
  {
   "cell_type": "code",
   "execution_count": 34,
   "id": "09c0d0e9",
   "metadata": {},
   "outputs": [
    {
     "name": "stdout",
     "output_type": "stream",
     "text": [
      "The AND Result for 0 and 0 is -1\n",
      "The AND Result for 0 and 1 is -1\n",
      "The AND Result for 1 and 0 is -1\n",
      "The AND Result for 1 and 1 is 1\n"
     ]
    }
   ],
   "source": [
    "import numpy as np\n",
    "\n",
    "#bipolar function for the perceptron\n",
    "def bipolar_function(x):\n",
    "    if x>=0:\n",
    "        return 1\n",
    "    else:\n",
    "        return -1\n",
    "#perceptron function for model training \n",
    "def perceptron_bipolar(a,b,w0,w1,w2,z,alpha):\n",
    "    net_weight=a*w1+b*w2+w0\n",
    "    prediction=bipolar_function(net_weight)\n",
    "    \n",
    "    error=z-prediction\n",
    "    w1=w1+(alpha*error*a)\n",
    "    w2=w2+(alpha*error*b)\n",
    "    w0=w0+(alpha*error)\n",
    "    \n",
    "    return w1,w2,w0\n",
    "\n",
    "for i in range(epochs):\n",
    "    for a,b,z in train_data:\n",
    "        w1,w2,w0=perceptron_bipolar(a,b,w0,w1,w2,z,alpha)\n",
    "\n",
    "test_data=[(0,0),(0,1),(1,0),(1,1)]\n",
    "\n",
    "\n",
    "net_weight=0*w1+0*w2+w0\n",
    "prediction=bipolar_function(net_weight)\n",
    "print(\"The AND Result for 0 and 0 is\",prediction)\n",
    "\n",
    "net_weight=0*w1+1*w2+w0\n",
    "prediction=bipolar_function(net_weight)\n",
    "print(\"The AND Result for 0 and 1 is\",prediction)\n",
    "\n",
    "net_weight=1*w1+0*w2+w0\n",
    "prediction=bipolar_function(net_weight)\n",
    "print(\"The AND Result for 1 and 0 is\",prediction)\n",
    "\n",
    "net_weight=1*w1+1*w2+w0\n",
    "prediction=bipolar_function(net_weight)\n",
    "print(\"The AND Result for 1 and 1 is\",prediction)"
   ]
  },
  {
   "cell_type": "code",
   "execution_count": 35,
   "id": "2a86c6f9",
   "metadata": {},
   "outputs": [
    {
     "name": "stdout",
     "output_type": "stream",
     "text": [
      "The AND Result for 0 and 0 is 0.0013840957125334805\n",
      "The AND Result for 0 and 1 is 0.08968831005489811\n",
      "The AND Result for 1 and 0 is 0.09014955799631322\n",
      "The AND Result for 1 and 1 is 0.8756717873731352\n"
     ]
    }
   ],
   "source": [
    "import numpy as np\n",
    "\n",
    "#sigmoid function for the perceptron\n",
    "def sigmoid_function(x):\n",
    "    return 1 / (1 + np.exp(-x))\n",
    "#perceptron function for model training \n",
    "def perceptron_sigmoid(a,b,w0,w1,w2,z,alpha):\n",
    "    net_weight=a*w1+b*w2+w0\n",
    "    prediction=sigmoid_function(net_weight)\n",
    "    \n",
    "    error=z-prediction\n",
    "    w1=w1+(alpha*error*a)\n",
    "    w2=w2+(alpha*error*b)\n",
    "    w0=w0+(alpha*error)\n",
    "    \n",
    "    return w1,w2,w0\n",
    "\n",
    "for i in range(epochs):\n",
    "    for a,b,z in train_data:\n",
    "        w1,w2,w0=perceptron_sigmoid(a,b,w0,w1,w2,z,alpha)\n",
    "\n",
    "test_data=[(0,0),(0,1),(1,0),(1,1)]\n",
    "\n",
    "\n",
    "net_weight=0*w1+0*w2+w0\n",
    "prediction=sigmoid_function(net_weight)\n",
    "print(\"The AND Result for 0 and 0 is\",prediction)\n",
    "\n",
    "net_weight=0*w1+1*w2+w0\n",
    "prediction=sigmoid_function(net_weight)\n",
    "print(\"The AND Result for 0 and 1 is\",prediction)\n",
    "\n",
    "net_weight=1*w1+0*w2+w0\n",
    "prediction=sigmoid_function(net_weight)\n",
    "print(\"The AND Result for 1 and 0 is\",prediction)\n",
    "\n",
    "net_weight=1*w1+1*w2+w0\n",
    "prediction=sigmoid_function(net_weight)\n",
    "print(\"The AND Result for 1 and 1 is\",prediction)"
   ]
  },
  {
   "cell_type": "code",
   "execution_count": 36,
   "id": "51d30193",
   "metadata": {},
   "outputs": [
    {
     "name": "stdout",
     "output_type": "stream",
     "text": [
      "The AND Result for 0 and 0 is 0.0\n",
      "The AND Result for 0 and 1 is 0.0\n",
      "The AND Result for 1 and 0 is 0.0\n",
      "The AND Result for 1 and 1 is 0.7310585786300056\n"
     ]
    }
   ],
   "source": [
    "import numpy as np\n",
    "\n",
    "#Rectified Linear Unit function for the perceptron\n",
    "def relu_function(x):\n",
    "    return np.maximum(0, x)\n",
    "\n",
    "#perceptron function for model training \n",
    "def perceptron_relu(a,b,w0,w1,w2,z,alpha):\n",
    "    net_weight=a*w1+b*w2+w0\n",
    "    prediction=relu_function(net_weight)\n",
    "    \n",
    "    error=z-prediction\n",
    "    w1=w1+(alpha*error*a)\n",
    "    w2=w2+(alpha*error*b)\n",
    "    w0=w0+(alpha*error)\n",
    "    \n",
    "    return w1,w2,w0\n",
    "\n",
    "epochs=1000\n",
    "for i in range(epochs):\n",
    "    for a,b,z in train_data:\n",
    "        w1,w2,w0=perceptron_relu(a,b,w0,w1,w2,z,alpha)\n",
    "\n",
    "test_data=[(0,0),(0,1),(1,0),(1,1)]\n",
    "\n",
    "\n",
    "net_weight=0*w1+0*w2+w0\n",
    "prediction=relu_function(net_weight)\n",
    "print(\"The AND Result for 0 and 0 is\",prediction)\n",
    "\n",
    "net_weight=0*w1+1*w2+w0\n",
    "prediction=relu_function(net_weight)\n",
    "print(\"The AND Result for 0 and 1 is\",prediction)\n",
    "\n",
    "net_weight=1*w1+0*w2+w0\n",
    "prediction=relu_function(net_weight)\n",
    "print(\"The AND Result for 1 and 0 is\",prediction)\n",
    "\n",
    "net_weight=1*w1+1*w2+w0\n",
    "prediction=sigmoid_function(net_weight)\n",
    "print(\"The AND Result for 1 and 1 is\",prediction)"
   ]
  },
  {
   "cell_type": "code",
   "execution_count": 51,
   "id": "ab4dcfbd",
   "metadata": {
    "scrolled": true
   },
   "outputs": [
    {
     "data": {
      "image/png": "[encoded data removed]",
      "text/plain": [
       "<Figure size 640x480 with 1 Axes>"
      ]
     },
     "metadata": {},
     "output_type": "display_data"
    }
   ],
   "source": [
    "import numpy as np\n",
    "import matplotlib.pyplot as plt\n",
    "\n",
    "# Training data for AND gate \n",
    "train_data=[(0, 0, 0), (0, 1, 0), (1, 0, 0), (1, 1, 1)]\n",
    "\n",
    "w0=10\n",
    "w1=0.2\n",
    "w2=-0.75\n",
    "\n",
    "#learning rates array\n",
    "learning_rates=[0.1, 0.2, 0.3, 0.4, 0.5, 0.6, 0.7, 0.8, 0.9, 1.0]\n",
    "\n",
    "iterations=[]\n",
    "\n",
    "for alpha in learning_rates:\n",
    "    w0=10\n",
    "    w1=0.2\n",
    "    w2=-0.75\n",
    "    converged=False\n",
    "    epochs=0\n",
    "    \n",
    "    # Train the perceptron\n",
    "    while not converged and epochs<1000:\n",
    "        converged=True  \n",
    "        for a,b,z in train_data:\n",
    "            w1,w2,w0=perceptron(a,b,w0,w1,w2,z,alpha)\n",
    "            if step_activation_function(a*w1+b*w2+w0)!=z:\n",
    "                converged = False\n",
    "        epochs=epochs+1\n",
    "    \n",
    "    iterations.append(epochs)\n",
    "\n",
    "#plotting the number of iterations vs. learning rates\n",
    "plt.plot(learning_rates, iterations, marker='o')\n",
    "plt.xlabel('Learning Rate')\n",
    "plt.ylabel('Number of Iterations to Converge')\n",
    "plt.title('Number of Iterations vs. Learning Rates for AND Gate')\n",
    "plt.grid(True)\n",
    "plt.show()\n"
   ]
  },
  {
   "cell_type": "code",
   "execution_count": 44,
   "id": "02c0fa51",
   "metadata": {},
   "outputs": [
    {
     "name": "stdout",
     "output_type": "stream",
     "text": [
      "The XOR Result for  0 and  0 is  1\n",
      "The XOR Result for  0 and  1 is  0\n",
      "The XOR Result for  1 and  0 is  0\n",
      "The XOR Result for  1 and  1 is  0\n"
     ]
    }
   ],
   "source": [
    "import numpy as np\n",
    "#XOR gate training data \n",
    "train_data_xor = [(0, 0, 0), (0, 1, 1), (1, 0, 1), (1, 1, 0)]\n",
    "w0=10\n",
    "w1=0.2\n",
    "w2=-0.75\n",
    "alpha=0.05\n",
    "#training the perceptron\n",
    "epochs = 1000\n",
    "for i in range(epochs):\n",
    "    for a,b,z in train_data_xor:\n",
    "        w1,w2,w0=perceptron_step(a,b,w0,w1,w2,z,alpha)\n",
    "\n",
    "test_data=[(0, 0),(0, 1),(1, 0),(1, 1)]\n",
    "\n",
    "for a,b in test_data:\n",
    "    net_weight=a*w1+b*w2+w0\n",
    "    prediction= step_activation_function(net_weight)\n",
    "    print(\"The XOR Result for \",a,\"and \",b, \"is \",prediction)\n"
   ]
  },
  {
   "cell_type": "code",
   "execution_count": 45,
   "id": "7b282f10",
   "metadata": {},
   "outputs": [
    {
     "name": "stdout",
     "output_type": "stream",
     "text": [
      "The XOR Result for  0 and  0 is  1\n",
      "The XOR Result for  0 and  1 is  1\n",
      "The XOR Result for  1 and  0 is  1\n",
      "The XOR Result for  1 and  1 is  1\n"
     ]
    }
   ],
   "source": [
    "#training the perceptron\n",
    "epochs = 1000\n",
    "for i in range(epochs):\n",
    "    for a,b,z in train_data_xor:\n",
    "        w1,w2,w0=perceptron_bipolar(a,b,w0,w1,w2,z,alpha)\n",
    "\n",
    "test_data=[(0, 0),(0, 1),(1, 0),(1, 1)]\n",
    "\n",
    "for a,b in test_data:\n",
    "    net_weight=a*w1+b*w2+w0\n",
    "    prediction=bipolar_function(net_weight)\n",
    "    print(\"The XOR Result for \",a,\"and \",b, \"is \",prediction)\n"
   ]
  },
  {
   "cell_type": "code",
   "execution_count": 46,
   "id": "3a9d4c8a",
   "metadata": {},
   "outputs": [
    {
     "name": "stdout",
     "output_type": "stream",
     "text": [
      "The XOR Result for  0 and  0 is  0.5063360765831167\n",
      "The XOR Result for  0 and  1 is  0.5000012509377969\n",
      "The XOR Result for  1 and  0 is  0.49367245786789266\n",
      "The XOR Result for  1 and  1 is  0.4873396619234918\n"
     ]
    }
   ],
   "source": [
    "#training the perceptron\n",
    "epochs = 1000\n",
    "for i in range(epochs):\n",
    "    for a,b,z in train_data_xor:\n",
    "        w1,w2,w0=perceptron_sigmoid(a,b,w0,w1,w2,z,alpha)\n",
    "\n",
    "test_data=[(0, 0),(0, 1),(1, 0),(1, 1)]\n",
    "\n",
    "for a,b in test_data:\n",
    "    net_weight=a*w1+b*w2+w0\n",
    "    prediction=sigmoid_function(net_weight)\n",
    "    print(\"The XOR Result for \",a,\"and \",b, \"is \",prediction)\n"
   ]
  },
  {
   "cell_type": "code",
   "execution_count": 47,
   "id": "6b8608df",
   "metadata": {},
   "outputs": [
    {
     "name": "stdout",
     "output_type": "stream",
     "text": [
      "The XOR Result for  0 and  0 is  0.5263157894736823\n",
      "The XOR Result for  0 and  1 is  0.49999999999999933\n",
      "The XOR Result for  1 and  0 is  0.47368421052631515\n",
      "The XOR Result for  1 and  1 is  0.4473684210526322\n"
     ]
    }
   ],
   "source": [
    "#training the perceptron\n",
    "epochs = 1000\n",
    "for i in range(epochs):\n",
    "    for a,b,z in train_data_xor:\n",
    "        w1,w2,w0=perceptron_relu(a,b,w0,w1,w2,z,alpha)\n",
    "\n",
    "test_data=[(0, 0),(0, 1),(1, 0),(1, 1)]\n",
    "\n",
    "for a,b in test_data:\n",
    "    net_weight=a*w1+b*w2+w0\n",
    "    prediction=relu_function(net_weight)\n",
    "    print(\"The XOR Result for \",a,\"and \",b, \"is \",prediction)\n"
   ]
  },
  {
   "cell_type": "code",
   "execution_count": 80,
   "id": "bc7c7137",
   "metadata": {},
   "outputs": [
    {
     "name": "stdout",
     "output_type": "stream",
     "text": [
      "Transaction 1 has High Value\n",
      "Transaction 2 has High Value\n"
     ]
    }
   ],
   "source": [
    "import numpy as np\n",
    "\n",
    "# Perceptron function for model training\n",
    "def perceptron_transaction(a,b,c,w1,w2,w0):\n",
    "    net_weight=a*w1+b*w2+c*w0\n",
    "    return sigmoid(net_weight)\n",
    "\n",
    "#training data-candies,mangoes,milk packets and prediction\n",
    "train_data_transaction=[\n",
    "    (20, 6, 2, 1),  \n",
    "    (16, 3, 6, 1),  \n",
    "    (27, 6, 2, 1), \n",
    "    (19, 1, 2, 1),  \n",
    "    (24, 4, 2, 1),  \n",
    "    (22, 1, 5, 1), \n",
    "    (15, 4, 2, 1),  \n",
    "    (18, 4, 2, 1),  \n",
    "    (21, 1, 4, 1),  \n",
    "    (16, 2, 4, 1) ]\n",
    "\n",
    "#weights and bias\n",
    "w1=0.5\n",
    "w2=0.75\n",
    "w0=20\n",
    "# Learning rate\n",
    "alpha=0.1\n",
    "\n",
    "epochs = 10000\n",
    "\n",
    "#training the perceptron\n",
    "for epoch in range(epochs):\n",
    "    for a,b,c,z in train_data_transaction:\n",
    "        prediction=perceptron_transaction(a,b,c,w1,w2,w0)\n",
    "        error = z-prediction\n",
    "        w1=w1+(alpha * error * a)\n",
    "        w2=w2+(alpha * error * b)\n",
    "        w0=w0+(alpha * error * c)\n",
    "\n",
    "#testing the perceptron\n",
    "test_data = [(18, 2, 3),(25, 5, 1)]\n",
    "\n",
    "for i, (a, b, c) in enumerate(test_data):\n",
    "    prediction = perceptron(a, b, c, w1, w2, w0)\n",
    "    if prediction >= 0.5:\n",
    "        print(\"Transaction\",i+1,\"has High Value\")\n",
    "    else:\n",
    "        print(\"Transaction\",i+1,\"has Low Value\")"
   ]
  },
  {
   "cell_type": "code",
   "execution_count": 82,
   "id": "7551b09f",
   "metadata": {},
   "outputs": [
    {
     "data": {
      "image/png": "[encoded data removed]",
      "text/plain": [
       "<Figure size 640x480 with 1 Axes>"
      ]
     },
     "metadata": {},
     "output_type": "display_data"
    }
   ],
   "source": [
    "# Learning rates to test\n",
    "learning_rates=[0.1, 0.2, 0.3, 0.4, 0.5, 0.6, 0.7, 0.8, 0.9, 1.0]\n",
    "\n",
    "# Store number of iterations for each learning rate\n",
    "iterations=[]\n",
    "\n",
    "for alpha in learning_rates:\n",
    "    w0=10\n",
    "    w1=0.2\n",
    "    w2=-0.75  \n",
    "    converged=False\n",
    "    epochs=0\n",
    "    \n",
    "    #training the perceptron\n",
    "    while not converged and epochs<1000:\n",
    "        converged=True  \n",
    "        for a,b,z in train_data_xor:\n",
    "            w1,w2,w0=perceptron_step(a,b,w0,w1,w2,z,alpha)\n",
    "            if step_activation_function(a*w1+b*w2+w0)!=z:\n",
    "                converged = False\n",
    "        epochs=epochs+1\n",
    "    \n",
    "    iterations.append(epochs)\n",
    "\n",
    "# Plotting the number of iterations vs. learning rates\n",
    "plt.plot(learning_rates, iterations, marker='o')\n",
    "plt.xlabel('Learning Rate')\n",
    "plt.ylabel('Number of Iterations to Converge')\n",
    "plt.title('Number of Iterations vs. Learning Rates for XOR Gate')\n",
    "plt.grid(True)\n",
    "plt.show()"
   ]
  },
  {
   "cell_type": "code",
   "execution_count": 79,
   "id": "8c8ae367",
   "metadata": {},
   "outputs": [
    {
     "name": "stdout",
     "output_type": "stream",
     "text": [
      "Transaction 1 has 1.0\n",
      "Transaction 2 has 1.0\n"
     ]
    }
   ],
   "source": [
    "X_train=np.array([[x[0], x[1], x[2], 1] for x in train_data])\n",
    "y_train=np.array([[x[3]] for x in train_data])\n",
    "\n",
    "#the pseudo-inverse weights\n",
    "weights_pseudo_inverse = np.linalg.pinv(X_train).dot(y_train)\n",
    "\n",
    "#testing the pseudo-inverse approach\n",
    "test_data = [\n",
    "    (10, 3, 2),   \n",
    "    (-1, -1, -1)   \n",
    "]\n",
    "\n",
    "#test data\n",
    "X_test = np.array([[a, b, c, 1] for a, b, c in test_data])\n",
    "\n",
    "predictions_pseudo_inverse = X_test.dot(weights_pseudo_inverse)\n",
    "\n",
    "for i, prediction in enumerate(predictions_pseudo_inverse):\n",
    "    print(\"Transaction\", i+1, \"has\", round(prediction[0], 4))\n"
   ]
  },
  {
   "cell_type": "code",
   "execution_count": null,
   "id": "1dc7f81a",
   "metadata": {},
   "outputs": [],
   "source": []
  }
 ],
 "metadata": {
  "kernelspec": {
   "display_name": "Python 3 (ipykernel)",
   "language": "python",
   "name": "python3"
  },
  "language_info": {
   "codemirror_mode": {
    "name": "ipython",
    "version": 3
   },
   "file_extension": ".py",
   "mimetype": "text/x-python",
   "name": "python",
   "nbconvert_exporter": "python",
   "pygments_lexer": "ipython3",
   "version": "3.9.13"
  }
 },
 "nbformat": 4,
 "nbformat_minor": 5
}
